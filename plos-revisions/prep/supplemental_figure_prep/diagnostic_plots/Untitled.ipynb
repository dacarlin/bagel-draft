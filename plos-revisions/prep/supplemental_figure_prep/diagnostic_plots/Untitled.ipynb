{
 "cells": [
  {
   "cell_type": "code",
   "execution_count": 13,
   "metadata": {
    "collapsed": false
   },
   "outputs": [
    {
     "name": "stdout",
     "output_type": "stream",
     "text": [
      "E17S\n",
      "F75A\n",
      "M223G\n",
      "N407A\n"
     ]
    }
   ],
   "source": [
    "with open( 'list.txt' ) as fn:\n",
    "    muts = [ i.strip() for i in fn.readlines() ]\n",
    "    \n",
    "from glob import glob\n",
    "\n",
    "plots = [ i.split( '/' )[1].split('.')[0].upper() for i in glob( 'plots2/*png' ) ]\n",
    "#print plots \n",
    "\n",
    "for p in plots:\n",
    "    if p in muts:\n",
    "        pass\n",
    "    else:\n",
    "        print p "
   ]
  },
  {
   "cell_type": "code",
   "execution_count": null,
   "metadata": {
    "collapsed": true
   },
   "outputs": [],
   "source": []
  }
 ],
 "metadata": {
  "kernelspec": {
   "display_name": "Python 2",
   "language": "python",
   "name": "python2"
  },
  "language_info": {
   "codemirror_mode": {
    "name": "ipython",
    "version": 2
   },
   "file_extension": ".py",
   "mimetype": "text/x-python",
   "name": "python",
   "nbconvert_exporter": "python",
   "pygments_lexer": "ipython2",
   "version": "2.7.10"
  }
 },
 "nbformat": 4,
 "nbformat_minor": 0
}
