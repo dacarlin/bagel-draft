{
 "cells": [
  {
   "cell_type": "code",
   "execution_count": 1,
   "metadata": {
    "collapsed": false
   },
   "outputs": [],
   "source": [
    "import pandas\n",
    "import screed \n",
    "\n",
    "for record in screed.open( 'bglb.pep' ):\n",
    "    seq = record.sequence"
   ]
  },
  {
   "cell_type": "code",
   "execution_count": 2,
   "metadata": {
    "collapsed": false
   },
   "outputs": [],
   "source": [
    "with open( 'paper_list.csv' ) as fn:\n",
    "    lines = [ i.strip() for i in fn.readlines() ]"
   ]
  },
  {
   "cell_type": "code",
   "execution_count": 6,
   "metadata": {
    "collapsed": false
   },
   "outputs": [
    {
     "name": "stdout",
     "output_type": "stream",
     "text": [
      ">>> Error: E17S\n",
      ">>> Error: F75A\n",
      ">>> Error: M223G\n",
      ">>> Error: N407A\n"
     ]
    }
   ],
   "source": [
    "for i in lines:\n",
    "    if i[0] != record.sequence[ int( i[1:-1] ) - 1 ]:\n",
    "        print '>>> Error: {}'.format( i )"
   ]
  },
  {
   "cell_type": "code",
   "execution_count": null,
   "metadata": {
    "collapsed": true
   },
   "outputs": [],
   "source": []
  }
 ],
 "metadata": {
  "kernelspec": {
   "display_name": "Python 2",
   "language": "python",
   "name": "python2"
  },
  "language_info": {
   "codemirror_mode": {
    "name": "ipython",
    "version": 2
   },
   "file_extension": ".py",
   "mimetype": "text/x-python",
   "name": "python",
   "nbconvert_exporter": "python",
   "pygments_lexer": "ipython2",
   "version": "2.7.10"
  }
 },
 "nbformat": 4,
 "nbformat_minor": 0
}
